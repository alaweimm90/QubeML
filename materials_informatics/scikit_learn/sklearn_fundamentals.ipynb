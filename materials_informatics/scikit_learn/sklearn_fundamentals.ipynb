{
  "nbformat": 4,
  "nbformat_minor": 0,
  "metadata": {
    "colab": {
      "provenance": []
    },
    "kernelspec": {
      "name": "python3",
      "display_name": "Python 3"
    },
    "language_info": {
      "name": "python"
    }
  },
  "cells": [
    {
      "cell_type": "code",
      "execution_count": null,
      "metadata": {
        "id": "install_cell"
      },
      "outputs": [],
      "source": [
        "# ==========================\n",
        "# 📦 Install Scikit-learn (Colab only)\n",
        "# ==========================\n",
        "!pip install scikit-learn pandas matplotlib numpy seaborn"
      ]
    },
    {
      "cell_type": "markdown",
      "metadata": {
        "id": "intro_cell"
      },
      "source": [
        "# Classical Machine Learning with Scikit-learn: A Beginner's Guide\n",
        "\n",
        "This notebook introduces fundamental concepts in classical machine learning using Scikit-learn, specifically for materials science applications. We will explore data loading, preprocessing, classification, regression, PCA analysis, and high-throughput screening approaches.\n",
        "\n",
        "**Learning Path**: Data Loading → Preprocessing → Classification → Regression → PCA Analysis → High-throughput Screening\n",
        "\n",
        "Let's start by setting up our machine learning environment for materials informatics."
      ]
    },
    {
      "cell_type": "code",
      "execution_count": null,
      "metadata": {
        "id": "setup_cell"
      },
      "outputs": [],
      "source": [
        "# Import necessary libraries for classical ML and materials science\n",
        "import numpy as np\n",
        "import pandas as pd\n",
        "import matplotlib.pyplot as plt\n",
        "import seaborn as sns\n",
        "from sklearn.model_selection import train_test_split, cross_val_score\n",
        "from sklearn.preprocessing import StandardScaler, LabelEncoder\n",
        "from sklearn.ensemble import RandomForestRegressor, RandomForestClassifier\n",
        "from sklearn.svm import SVR, SVC\n",
        "from sklearn.linear_model import LinearRegression\n",
        "from sklearn.metrics import mean_absolute_error, r2_score, accuracy_score, classification_report\n",
        "from sklearn.decomposition import PCA\n",
        "from sklearn.cluster import KMeans\n",
        "import warnings\n",
        "warnings.filterwarnings('ignore')\n",
        "\n",
        "# Set random seed for reproducibility\n",
        "np.random.seed(42)\n",
        "\n",
        "print(f\"Scikit-learn ready for materials informatics!\")\n",
        "print(f\"NumPy: {np.__version__}, Pandas: {pd.__version__}\")"
      ]
    },
    {
      "cell_type": "markdown",
      "metadata": {
        "id": "concept_1_theory"
      },
      "source": [
        "# ✅ 1. Data Loading - Materials Dataset Handling\n",
        "\n",
        "The first step in any materials informatics project is loading and understanding your dataset. Materials data comes in various formats and often requires careful preprocessing to extract meaningful features.\n",
        "\n",
        "## Common Materials Data Sources\n",
        "\n",
        "- **Experimental databases**: ICSD, NIST, Materials Project\n",
        "- **Computational databases**: AFLOW, OQMD, C2DB\n",
        "- **Literature mining**: Automated extraction from papers\n",
        "- **High-throughput calculations**: DFT, MD simulations\n",
        "\n",
        "## Key Considerations\n",
        "\n",
        "- **Data quality**: Missing values, outliers, measurement errors\n",
        "- **Feature engineering**: Converting chemical formulas to descriptors\n",
        "- **Target variables**: Property of interest (bandgap, formation energy, etc.)\n",
        "- **Data imbalance**: Uneven representation of materials classes\n",
        "\n",
        "This section demonstrates loading and exploring materials datasets."
      ]
    },
    {
      "cell_type": "code",
      "execution_count": null,
      "metadata": {
        "id": "concept_1_code"
      },
      "outputs": [],
      "source": [
        "# Create comprehensive materials dataset for demonstration\n",
        "def create_materials_dataset():\n",
        "    \"\"\"Create a realistic materials dataset for ML demonstrations.\"\"\"\n",
        "    \n",
        "    # Material systems and their properties\n",
        "    materials_data = [\n",
        "        # Format: [name, formula, space_group, a, b, c, bandgap, formation_energy, class]\n",
        "        [\"Silicon\", \"Si\", \"Fd-3m\", 5.431, 5.431, 5.431, 1.12, -5.45, \"Semiconductor\"],\n",
        "        [\"Gallium Arsenide\", \"GaAs\", \"F-43m\", 5.653, 5.653, 5.653, 1.42, -0.74, \"Semiconductor\"],\n",
        "        [\"Molybdenum Disulfide\", \"MoS2\", \"P63/mmc\", 3.16, 3.16, 12.3, 1.8, -1.23, \"2D Material\"],\n",
        "        [\"Tungsten Diselenide\", \"WSe2\", \"P63/mmc\", 3.28, 3.28, 12.96, 1.6, -1.45, \"2D Material\"],\n",
        "        [\"Graphene\", \"C\", \"P6/mmm\", 2.46, 2.46, 6.7, 0.0, 0.0, \"2D Material\"],\n",
        "        [\"Hexagonal Boron Nitride\", \"BN\", \"P63/mmc\", 2.50, 2.50, 6.66, 5.9, -2.51, \"Insulator\"],\n",
        "        [\"Titanium Dioxide\", \"TiO2\", \"P42/mnm\", 4.594, 4.594, 2.959, 3.2, -9.45, \"Insulator\"],\n",
        "        [\"Zinc Oxide\", \"ZnO\", \"P63mc\", 3.25, 3.25, 5.207, 3.37, -3.48, \"Semiconductor\"],\n",
        "        [\"Cadmium Telluride\", \"CdTe\", \"F-43m\", 6.482, 6.482, 6.482, 1.5, -0.92, \"Semiconductor\"],\n",
        "        [\"Indium Phosphide\", \"InP\", \"F-43m\", 5.869, 5.869, 5.869, 1.34, -0.88, \"Semiconductor\"],\n",
        "        [\"Gallium Nitride\", \"GaN\", \"P63mc\", 3.189, 3.189, 5.185, 3.4, -1.09, \"Semiconductor\"],\n",
        "        [\"Aluminum Nitride\", \"AlN\", \"P63mc\", 3.112, 3.112, 4.982, 6.2, -3.29, \"Insulator\"],\n",
        "        [\"Silicon Carbide\", \"SiC\", \"F-43m\", 4.359, 4.359, 4.359, 2.36, -0.73, \"Semiconductor\"],\n",
        "        [\"Tin Dioxide\", \"SnO2\", \"P42/mnm\", 4.737, 4.737, 3.186, 3.6, -5.81, \"Semiconductor\"],\n",
        "        [\"Copper Oxide\", \"Cu2O\", \"Pn-3m\", 4.27, 4.27, 4.27, 2.17, -1.68, \"Semiconductor\"]\n",
        "    ]\n",
        "    \n",
        "    # Convert to DataFrame\n",
        "    columns = ['Material', 'Formula', 'Space_Group', 'a', 'b', 'c', \n",
        "               'Bandgap_eV', 'Formation_Energy_eV', 'Class']\n",
        "    df = pd.DataFrame(materials_data, columns=columns)\n",
        "    \n",
        "    # Add computed features\n",
        "    df['Volume'] = df['a'] * df['b'] * df['c']\n",
        "    df['Average_Lattice'] = (df['a'] + df['b'] + df['c']) / 3\n",
        "    df['Is_Cubic'] = ((df['a'] - df['b']).abs() < 0.01) & ((df['b'] - df['c']).abs() < 0.01)\n",
        "    \n",
        "    return df\n",
        "\n",
        "# Load the materials dataset\n",
        "print(\"🔬 Loading Materials Dataset\")\n",
        "print(\"=\" * 35)\n",
        "\n",
        "df = create_materials_dataset()\n",
        "\n",
        "print(f\"Dataset shape: {df.shape}\")\n",
        "print(f\"Columns: {list(df.columns)}\")\n",
        "print(\"\\n📊 First 5 materials:\")\n",
        "print(df.head())\n",
        "\n",
        "# Dataset overview\n",
        "print(\"\\n📋 Dataset Information:\")\n",
        "print(f\"Total materials: {len(df)}\")\n",
        "print(f\"Material classes: {df['Class'].unique()}\")\n",
        "print(f\"Class distribution:\")\n",
        "print(df['Class'].value_counts())\n",
        "\n",
        "# Statistical summary\n",
        "print(\"\\n📈 Property Statistics:\")\n",
        "numeric_cols = ['Bandgap_eV', 'Formation_Energy_eV', 'Volume', 'Average_Lattice']\n",
        "print(df[numeric_cols].describe().round(2))\n",
        "\n",
        "# Data quality check\n",
        "print(\"\\n🔍 Data Quality Check:\")\n",
        "print(f\"Missing values: {df.isnull().sum().sum()}\")\n",
        "print(f\"Duplicate entries: {df.duplicated().sum()}\")\n",
        "print(f\"Unique space groups: {df['Space_Group'].nunique()}\")"
      ]
    }
  ]
}