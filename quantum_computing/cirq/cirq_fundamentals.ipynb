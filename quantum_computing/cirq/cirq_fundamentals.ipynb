{
 "cells": [
  {
   "cell_type": "markdown",
   "metadata": {},
   "source": [
    "# Cirq Fundamentals for Quantum Computing\n",
    "\n",
    "This notebook covers the fundamental concepts of quantum computing using Google's Cirq library."
   ]
  },
  {
   "cell_type": "code",
   "execution_count": null,
   "metadata": {},
   "outputs": [],
   "source": [
    "import cirq\n",
    "import numpy as np\n",
    "import matplotlib.pyplot as plt\n",
    "from typing import List, Tuple, Optional\n",
    "import sympy"
   ]
  },
  {
   "cell_type": "markdown",
   "metadata": {},
   "source": [
    "## 1. Qubits and Quantum States"
   ]
  },
  {
   "cell_type": "code",
   "execution_count": null,
   "metadata": {},
   "outputs": [],
   "source": [
    "qubit = cirq.LineQubit(0)\n",
    "print(f\"Single qubit: {qubit}\")\n",
    "\n",
    "qubits = cirq.LineQubit.range(3)\n",
    "print(f\"Multiple qubits: {qubits}\")\n",
    "\n",
    "grid_qubits = cirq.GridQubit.square(2)\n",
    "print(f\"Grid qubits: {grid_qubits}\")"
   ]
  },
  {
   "cell_type": "markdown",
   "metadata": {},
   "source": [
    "## 2. Basic Quantum Gates"
   ]
  },
  {
   "cell_type": "code",
   "execution_count": null,
   "metadata": {},
   "outputs": [],
   "source": [
    "def demonstrate_basic_gates():\n",
    "    q0, q1 = cirq.LineQubit.range(2)\n",
    "    \n",
    "    circuit = cirq.Circuit()\n",
    "    \n",
    "    circuit.append([\n",
    "        cirq.H(q0),\n",
    "        cirq.X(q1),\n",
    "        cirq.Y(q0),\n",
    "        cirq.Z(q1),\n",
    "        cirq.S(q0),\n",
    "        cirq.T(q1),\n",
    "    ])\n",
    "    \n",
    "    circuit.append(cirq.CNOT(q0, q1))\n",
    "    \n",
    "    circuit.append([\n",
    "        cirq.rx(np.pi/4)(q0),\n",
    "        cirq.ry(np.pi/3)(q1),\n",
    "        cirq.rz(np.pi/6)(q0),\n",
    "    ])\n",
    "    \n",
    "    print(\"Basic quantum gates circuit:\")\n",
    "    print(circuit)\n",
    "    return circuit\n",
    "\n",
    "basic_circuit = demonstrate_basic_gates()"
   ]
  },
  {
   "cell_type": "markdown",
   "metadata": {},
   "source": [
    "## 3. Quantum Circuit Construction"
   ]
  },
  {
   "cell_type": "code",
   "execution_count": null,
   "metadata": {},
   "outputs": [],
   "source": [
    "def create_bell_state():\n",
    "    q0, q1 = cirq.LineQubit.range(2)\n",
    "    circuit = cirq.Circuit()\n",
    "    \n",
    "    circuit.append([\n",
    "        cirq.H(q0),\n",
    "        cirq.CNOT(q0, q1)\n",
    "    ])\n",
    "    \n",
    "    print(\"Bell state preparation:\")\n",
    "    print(circuit)\n",
    "    return circuit\n",
    "\n",
    "def create_ghz_state(n_qubits: int = 3):\n",
    "    qubits = cirq.LineQubit.range(n_qubits)\n",
    "    circuit = cirq.Circuit()\n",
    "    \n",
    "    circuit.append(cirq.H(qubits[0]))\n",
    "    \n",
    "    for i in range(n_qubits - 1):\n",
    "        circuit.append(cirq.CNOT(qubits[i], qubits[i + 1]))\n",
    "    \n",
    "    print(f\"GHZ state for {n_qubits} qubits:\")\n",
    "    print(circuit)\n",
    "    return circuit\n",
    "\n",
    "bell_circuit = create_bell_state()\n",
    "ghz_circuit = create_ghz_state(4)"
   ]
  },
  {
   "cell_type": "markdown",
   "metadata": {},
   "source": [
    "## 4. Quantum Fourier Transform"
   ]
  },
  {
   "cell_type": "code",
   "execution_count": null,
   "metadata": {},
   "outputs": [],
   "source": [
    "def quantum_fourier_transform(qubits: List[cirq.Qid]) -> cirq.Circuit:\n",
    "    circuit = cirq.Circuit()\n",
    "    n = len(qubits)\n",
    "    \n",
    "    for i in range(n):\n",
    "        circuit.append(cirq.H(qubits[i]))\n",
    "        \n",
    "        for j in range(i + 1, n):\n",
    "            angle = 2 * np.pi / (2 ** (j - i + 1))\n",
    "            circuit.append(cirq.CZPowGate(exponent=angle/np.pi)(qubits[i], qubits[j]))\n",
    "    \n",
    "    for i in range(n // 2):\n",
    "        circuit.append(cirq.SWAP(qubits[i], qubits[n - i - 1]))\n",
    "    \n",
    "    return circuit\n",
    "\n",
    "qft_qubits = cirq.LineQubit.range(4)\n",
    "qft_circuit = quantum_fourier_transform(qft_qubits)\n",
    "print(\"Quantum Fourier Transform:\")\n",
    "print(qft_circuit)"
   ]
  },
  {
   "cell_type": "markdown",
   "metadata": {},
   "source": [
    "## 5. Grover's Algorithm"
   ]
  },
  {
   "cell_type": "code",
   "execution_count": null,
   "metadata": {},
   "outputs": [],
   "source": [
    "def oracle(qubits: List[cirq.Qid], marked_state: int) -> cirq.Circuit:\n",
    "    circuit = cirq.Circuit()\n",
    "    \n",
    "    for i, bit in enumerate(bin(marked_state)[2:].zfill(len(qubits))):\n",
    "        if bit == '0':\n",
    "            circuit.append(cirq.X(qubits[i]))\n",
    "    \n",
    "    circuit.append(cirq.Z.controlled(len(qubits) - 1)(*qubits))\n",
    "    \n",
    "    for i, bit in enumerate(bin(marked_state)[2:].zfill(len(qubits))):\n",
    "        if bit == '0':\n",
    "            circuit.append(cirq.X(qubits[i]))\n",
    "    \n",
    "    return circuit\n",
    "\n",
    "def diffusion_operator(qubits: List[cirq.Qid]) -> cirq.Circuit:\n",
    "    circuit = cirq.Circuit()\n",
    "    \n",
    "    circuit.append([cirq.H(q) for q in qubits])\n",
    "    circuit.append([cirq.X(q) for q in qubits])\n",
    "    \n",
    "    circuit.append(cirq.Z.controlled(len(qubits) - 1)(*qubits))\n",
    "    \n",
    "    circuit.append([cirq.X(q) for q in qubits])\n",
    "    circuit.append([cirq.H(q) for q in qubits])\n",
    "    \n",
    "    return circuit\n",
    "\n",
    "def grover_algorithm(n_qubits: int, marked_state: int) -> cirq.Circuit:\n",
    "    qubits = cirq.LineQubit.range(n_qubits)\n",
    "    circuit = cirq.Circuit()\n",
    "    \n",
    "    circuit.append([cirq.H(q) for q in qubits])\n",
    "    \n",
    "    n_iterations = int(np.pi / 4 * np.sqrt(2**n_qubits))\n",
    "    \n",
    "    for _ in range(n_iterations):\n",
    "        circuit.append(oracle(qubits, marked_state))\n",
    "        circuit.append(diffusion_operator(qubits))\n",
    "    \n",
    "    circuit.append(cirq.measure(*qubits, key='result'))\n",
    "    \n",
    "    return circuit\n",
    "\n",
    "grover_circuit = grover_algorithm(3, 5)\n",
    "print(\"Grover's Algorithm for 3 qubits, searching for state |101>:\")\n",
    "print(grover_circuit)"
   ]
  },
  {
   "cell_type": "markdown",
   "metadata": {},
   "source": [
    "## 6. Variational Quantum Eigensolver (VQE)"
   ]
  },
  {
   "cell_type": "code",
   "execution_count": null,
   "metadata": {},
   "outputs": [],
   "source": [
    "def create_ansatz(qubits: List[cirq.Qid], depth: int = 2) -> Tuple[cirq.Circuit, List[sympy.Symbol]]:\n",
    "    circuit = cirq.Circuit()\n",
    "    symbols = []\n",
    "    \n",
    "    for d in range(depth):\n",
    "        for i, qubit in enumerate(qubits):\n",
    "            symbol = sympy.Symbol(f'theta_{d}_{i}')\n",
    "            symbols.append(symbol)\n",
    "            circuit.append(cirq.ry(symbol)(qubit))\n",
    "        \n",
    "        for i in range(len(qubits) - 1):\n",
    "            circuit.append(cirq.CNOT(qubits[i], qubits[i + 1]))\n",
    "    \n",
    "    return circuit, symbols\n",
    "\n",
    "def create_hamiltonian_circuit(qubits: List[cirq.Qid]) -> cirq.PauliSum:\n",
    "    return (\n",
    "        -1.0 * cirq.Z(qubits[0]) * cirq.Z(qubits[1]) +\n",
    "        0.5 * cirq.X(qubits[0]) +\n",
    "        0.5 * cirq.X(qubits[1])\n",
    "    )\n",
    "\n",
    "vqe_qubits = cirq.LineQubit.range(2)\n",
    "ansatz_circuit, params = create_ansatz(vqe_qubits)\n",
    "hamiltonian = create_hamiltonian_circuit(vqe_qubits)\n",
    "\n",
    "print(\"VQE Ansatz Circuit:\")\n",
    "print(ansatz_circuit)\n",
    "print(f\"\\nParameters: {params}\")\n",
    "print(f\"\\nHamiltonian: {hamiltonian}\")"
   ]
  },
  {
   "cell_type": "markdown",
   "metadata": {},
   "source": [
    "## 7. Quantum Circuit Simulation"
   ]
  },
  {
   "cell_type": "code",
   "execution_count": null,
   "metadata": {},
   "outputs": [],
   "source": [
    "def simulate_circuit(circuit: cirq.Circuit, repetitions: int = 1000):\n",
    "    simulator = cirq.Simulator()\n",
    "    \n",
    "    if any(isinstance(op.gate, cirq.MeasurementGate) for op in circuit.all_operations()):\n",
    "        result = simulator.run(circuit, repetitions=repetitions)\n",
    "        print(\"Measurement results:\")\n",
    "        print(result.histogram(key='result'))\n",
    "        return result\n",
    "    else:\n",
    "        result = simulator.simulate(circuit)\n",
    "        print(\"Final state vector:\")\n",
    "        print(np.round(result.final_state_vector, 3))\n",
    "        return result\n",
    "\n",
    "print(\"Simulating Bell state:\")\n",
    "bell_result = simulate_circuit(bell_circuit)\n",
    "\n",
    "print(\"\\nSimulating Grover's algorithm:\")\n",
    "grover_result = simulate_circuit(grover_circuit)"
   ]
  },
  {
   "cell_type": "markdown",
   "metadata": {},
   "source": [
    "## 8. Quantum Error Correction"
   ]
  },
  {
   "cell_type": "code",
   "execution_count": null,
   "metadata": {},
   "outputs": [],
   "source": [
    "def bit_flip_code_encoder(data_qubit: cirq.Qid, ancilla_qubits: List[cirq.Qid]) -> cirq.Circuit:\n",
    "    circuit = cirq.Circuit()\n",
    "    \n",
    "    for ancilla in ancilla_qubits:\n",
    "        circuit.append(cirq.CNOT(data_qubit, ancilla))\n",
    "    \n",
    "    return circuit\n",
    "\n",
    "def bit_flip_code_decoder(data_qubit: cirq.Qid, ancilla_qubits: List[cirq.Qid], \n",
    "                          syndrome_qubits: List[cirq.Qid]) -> cirq.Circuit:\n",
    "    circuit = cirq.Circuit()\n",
    "    \n",
    "    circuit.append(cirq.CNOT(data_qubit, syndrome_qubits[0]))\n",
    "    circuit.append(cirq.CNOT(ancilla_qubits[0], syndrome_qubits[0]))\n",
    "    \n",
    "    circuit.append(cirq.CNOT(ancilla_qubits[0], syndrome_qubits[1]))\n",
    "    circuit.append(cirq.CNOT(ancilla_qubits[1], syndrome_qubits[1]))\n",
    "    \n",
    "    circuit.append(cirq.measure(*syndrome_qubits, key='syndrome'))\n",
    "    \n",
    "    return circuit\n",
    "\n",
    "def apply_error(qubits: List[cirq.Qid], error_prob: float = 0.1) -> cirq.Circuit:\n",
    "    circuit = cirq.Circuit()\n",
    "    \n",
    "    for qubit in qubits:\n",
    "        if np.random.random() < error_prob:\n",
    "            circuit.append(cirq.X(qubit))\n",
    "    \n",
    "    return circuit\n",
    "\n",
    "data_q = cirq.LineQubit(0)\n",
    "ancilla_q = cirq.LineQubit.range(1, 3)\n",
    "syndrome_q = cirq.LineQubit.range(3, 5)\n",
    "\n",
    "error_correction_circuit = cirq.Circuit()\n",
    "error_correction_circuit.append(bit_flip_code_encoder(data_q, ancilla_q))\n",
    "error_correction_circuit.append(apply_error([data_q] + ancilla_q))\n",
    "error_correction_circuit.append(bit_flip_code_decoder(data_q, ancilla_q, syndrome_q))\n",
    "\n",
    "print(\"Bit-flip error correction circuit:\")\n",
    "print(error_correction_circuit)"
   ]
  },
  {
   "cell_type": "markdown",
   "metadata": {},
   "source": [
    "## 9. Quantum Phase Estimation"
   ]
  },
  {
   "cell_type": "code",
   "execution_count": null,
   "metadata": {},
   "outputs": [],
   "source": [
    "def quantum_phase_estimation(unitary_gate: cirq.Gate, n_precision_qubits: int = 3) -> cirq.Circuit:\n",
    "    precision_qubits = cirq.LineQubit.range(n_precision_qubits)\n",
    "    target_qubit = cirq.LineQubit(n_precision_qubits)\n",
    "    \n",
    "    circuit = cirq.Circuit()\n",
    "    \n",
    "    circuit.append([cirq.H(q) for q in precision_qubits])\n",
    "    \n",
    "    circuit.append(cirq.X(target_qubit))\n",
    "    \n",
    "    for i, control_qubit in enumerate(precision_qubits):\n",
    "        controlled_u = unitary_gate.controlled()\n",
    "        for _ in range(2**i):\n",
    "            circuit.append(controlled_u(control_qubit, target_qubit))\n",
    "    \n",
    "    inverse_qft = quantum_fourier_transform(precision_qubits).inverse()\n",
    "    circuit.append(inverse_qft)\n",
    "    \n",
    "    circuit.append(cirq.measure(*precision_qubits, key='phase'))\n",
    "    \n",
    "    return circuit\n",
    "\n",
    "phase_gate = cirq.Z**(1/4)\n",
    "qpe_circuit = quantum_phase_estimation(phase_gate)\n",
    "print(\"Quantum Phase Estimation circuit:\")\n",
    "print(qpe_circuit)"
   ]
  },
  {
   "cell_type": "markdown",
   "metadata": {},
   "source": [
    "## 10. Quantum Teleportation"
   ]
  },
  {
   "cell_type": "code",
   "execution_count": null,
   "metadata": {},
   "outputs": [],
   "source": [
    "def quantum_teleportation() -> cirq.Circuit:\n",
    "    alice_data = cirq.LineQubit(0)\n",
    "    alice_bell = cirq.LineQubit(1)\n",
    "    bob_bell = cirq.LineQubit(2)\n",
    "    \n",
    "    circuit = cirq.Circuit()\n",
    "    \n",
    "    circuit.append([\n",
    "        cirq.ry(np.pi/4)(alice_data),\n",
    "        cirq.rz(np.pi/6)(alice_data)\n",
    "    ])\n",
    "    \n",
    "    circuit.append([\n",
    "        cirq.H(alice_bell),\n",
    "        cirq.CNOT(alice_bell, bob_bell)\n",
    "    ])\n",
    "    \n",
    "    circuit.append([\n",
    "        cirq.CNOT(alice_data, alice_bell),\n",
    "        cirq.H(alice_data)\n",
    "    ])\n",
    "    \n",
    "    circuit.append([\n",
    "        cirq.measure(alice_data, key='m1'),\n",
    "        cirq.measure(alice_bell, key='m2')\n",
    "    ])\n",
    "    \n",
    "    circuit.append([\n",
    "        cirq.X(bob_bell).with_classical_controls('m2'),\n",
    "        cirq.Z(bob_bell).with_classical_controls('m1')\n",
    "    ])\n",
    "    \n",
    "    return circuit\n",
    "\n",
    "teleportation_circuit = quantum_teleportation()\n",
    "print(\"Quantum Teleportation circuit:\")\n",
    "print(teleportation_circuit)"
   ]
  },
  {
   "cell_type": "markdown",
   "metadata": {},
   "source": [
    "## 11. Noise Modeling and Mitigation"
   ]
  },
  {
   "cell_type": "code",
   "execution_count": null,
   "metadata": {},
   "outputs": [],
   "source": [
    "def add_noise_to_circuit(circuit: cirq.Circuit, noise_prob: float = 0.01) -> cirq.Circuit:\n",
    "    noisy_circuit = cirq.Circuit()\n",
    "    \n",
    "    for moment in circuit:\n",
    "        noisy_circuit.append(moment)\n",
    "        \n",
    "        for op in moment:\n",
    "            if not isinstance(op.gate, cirq.MeasurementGate):\n",
    "                for qubit in op.qubits:\n",
    "                    noisy_circuit.append(cirq.depolarize(noise_prob)(qubit))\n",
    "    \n",
    "    return noisy_circuit\n",
    "\n",
    "def simulate_with_noise(circuit: cirq.Circuit, noise_prob: float = 0.01, repetitions: int = 1000):\n",
    "    noisy_circuit = add_noise_to_circuit(circuit, noise_prob)\n",
    "    \n",
    "    simulator = cirq.DensityMatrixSimulator()\n",
    "    \n",
    "    if any(isinstance(op.gate, cirq.MeasurementGate) for op in circuit.all_operations()):\n",
    "        result = simulator.run(noisy_circuit, repetitions=repetitions)\n",
    "        return result\n",
    "    else:\n",
    "        result = simulator.simulate(noisy_circuit)\n",
    "        return result\n",
    "\n",
    "test_circuit = create_bell_state()\n",
    "test_circuit.append(cirq.measure(*cirq.LineQubit.range(2), key='result'))\n",
    "\n",
    "print(\"Original circuit:\")\n",
    "clean_result = simulate_circuit(test_circuit)\n",
    "\n",
    "print(\"\\nNoisy circuit simulation:\")\n",
    "noisy_result = simulate_with_noise(test_circuit, noise_prob=0.05)\n",
    "print(noisy_result.histogram(key='result'))"
   ]
  },
  {
   "cell_type": "markdown",
   "metadata": {},
   "source": [
    "## 12. Custom Gate Implementation"
   ]
  },
  {
   "cell_type": "code",
   "execution_count": null,
   "metadata": {},
   "outputs": [],
   "source": [
    "class CustomControlledGate(cirq.Gate):\n",
    "    def __init__(self, angle: float):\n",
    "        self.angle = angle\n",
    "    \n",
    "    def _num_qubits_(self) -> int:\n",
    "        return 2\n",
    "    \n",
    "    def _unitary_(self):\n",
    "        c = np.cos(self.angle / 2)\n",
    "        s = np.sin(self.angle / 2)\n",
    "        return np.array([\n",
    "            [1, 0, 0, 0],\n",
    "            [0, 1, 0, 0],\n",
    "            [0, 0, c, -1j * s],\n",
    "            [0, 0, -1j * s, c]\n",
    "        ])\n",
    "    \n",
    "    def _circuit_diagram_info_(self, args):\n",
    "        return ['@', f'R({self.angle:.2f})']\n",
    "\n",
    "def test_custom_gate():\n",
    "    qubits = cirq.LineQubit.range(2)\n",
    "    circuit = cirq.Circuit()\n",
    "    \n",
    "    custom_gate = CustomControlledGate(np.pi / 3)\n",
    "    \n",
    "    circuit.append([\n",
    "        cirq.H(qubits[0]),\n",
    "        custom_gate(*qubits),\n",
    "        cirq.measure(*qubits, key='result')\n",
    "    ])\n",
    "    \n",
    "    print(\"Circuit with custom gate:\")\n",
    "    print(circuit)\n",
    "    \n",
    "    return circuit\n",
    "\n",
    "custom_circuit = test_custom_gate()\n",
    "simulate_circuit(custom_circuit)"
   ]
  }
 ],
 "metadata": {
  "kernelspec": {
   "display_name": "Python 3",
   "language": "python",
   "name": "python3"
  },
  "language_info": {
   "codemirror_mode": {
    "name": "ipython",
    "version": 3
   },
   "file_extension": ".py",
   "mimetype": "text/x-python",
   "name": "python",
   "nbconvert_exporter": "python",
   "pygments_lexer": "ipython3",
   "version": "3.8.0"
  }
 },
 "nbformat": 4,
 "nbformat_minor": 4
}